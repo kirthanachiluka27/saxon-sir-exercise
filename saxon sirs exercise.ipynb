{
 "cells": [
  {
   "cell_type": "markdown",
   "id": "bb223aef",
   "metadata": {},
   "source": [
    "# Task 1"
   ]
  },
  {
   "cell_type": "markdown",
   "id": "a1ee794f",
   "metadata": {},
   "source": [
    "### 1) Write a program to get the data type of a data"
   ]
  },
  {
   "cell_type": "code",
   "execution_count": 3,
   "id": "2c2d3350",
   "metadata": {},
   "outputs": [
    {
     "data": {
      "text/plain": [
       "set"
      ]
     },
     "execution_count": 3,
     "metadata": {},
     "output_type": "execute_result"
    }
   ],
   "source": [
    "x={\"the\",1,\"she\",2,\"he\"}\n",
    "\n",
    "type(x)\n"
   ]
  },
  {
   "cell_type": "code",
   "execution_count": 8,
   "id": "85e2edfa",
   "metadata": {},
   "outputs": [
    {
     "data": {
      "text/plain": [
       "dict"
      ]
     },
     "execution_count": 8,
     "metadata": {},
     "output_type": "execute_result"
    }
   ],
   "source": [
    "x={\"girls\":5,\"boys\":10}\n",
    "type(x)"
   ]
  },
  {
   "cell_type": "markdown",
   "id": "df059c9d",
   "metadata": {},
   "source": [
    "### 2) Write a program to convert a integer data type to float data type"
   ]
  },
  {
   "cell_type": "code",
   "execution_count": 11,
   "id": "cecab610",
   "metadata": {},
   "outputs": [
    {
     "data": {
      "text/plain": [
       "38.0"
      ]
     },
     "execution_count": 11,
     "metadata": {},
     "output_type": "execute_result"
    }
   ],
   "source": [
    "x=38\n",
    "y=float(x)\n",
    "y"
   ]
  },
  {
   "cell_type": "code",
   "execution_count": 12,
   "id": "5caaebb4",
   "metadata": {},
   "outputs": [
    {
     "data": {
      "text/plain": [
       "float"
      ]
     },
     "execution_count": 12,
     "metadata": {},
     "output_type": "execute_result"
    }
   ],
   "source": [
    "type(y)"
   ]
  },
  {
   "cell_type": "markdown",
   "id": "cd0818d2",
   "metadata": {},
   "source": [
    "### 3) Write a program to convert a integer data type to float data type and vice versa"
   ]
  },
  {
   "cell_type": "code",
   "execution_count": 15,
   "id": "765d3f19",
   "metadata": {},
   "outputs": [
    {
     "data": {
      "text/plain": [
       "float"
      ]
     },
     "execution_count": 15,
     "metadata": {},
     "output_type": "execute_result"
    }
   ],
   "source": [
    "x=25\n",
    "y=float(x)\n",
    "type(y)"
   ]
  },
  {
   "cell_type": "code",
   "execution_count": 17,
   "id": "50ccf216",
   "metadata": {},
   "outputs": [
    {
     "data": {
      "text/plain": [
       "int"
      ]
     },
     "execution_count": 17,
     "metadata": {},
     "output_type": "execute_result"
    }
   ],
   "source": [
    "x=25.4\n",
    "y=int(x)\n",
    "type(y)"
   ]
  },
  {
   "cell_type": "markdown",
   "id": "4e2443ef",
   "metadata": {},
   "source": [
    "### 4) Write a programme to get the actual location of the data"
   ]
  },
  {
   "cell_type": "code",
   "execution_count": 18,
   "id": "f0b59e61",
   "metadata": {},
   "outputs": [
    {
     "data": {
      "text/plain": [
       "2732743748176"
      ]
     },
     "execution_count": 18,
     "metadata": {},
     "output_type": "execute_result"
    }
   ],
   "source": [
    "x=10\n",
    "id(x)"
   ]
  },
  {
   "cell_type": "markdown",
   "id": "0aa86b32",
   "metadata": {},
   "source": [
    "### 5) Give an example of implict conversion and explict conversion "
   ]
  },
  {
   "cell_type": "code",
   "execution_count": 24,
   "id": "5bcfbfab",
   "metadata": {},
   "outputs": [],
   "source": [
    "x=23\n",
    "y=26.9\n",
    "c=2+6j\n",
    "z=x+y+c\n"
   ]
  },
  {
   "cell_type": "code",
   "execution_count": 25,
   "id": "62ee936a",
   "metadata": {},
   "outputs": [
    {
     "data": {
      "text/plain": [
       "(51.9+6j)"
      ]
     },
     "execution_count": 25,
     "metadata": {},
     "output_type": "execute_result"
    }
   ],
   "source": [
    "z"
   ]
  },
  {
   "cell_type": "code",
   "execution_count": 27,
   "id": "f78cd85a",
   "metadata": {},
   "outputs": [
    {
     "data": {
      "text/plain": [
       "(51.9+6j)"
      ]
     },
     "execution_count": 27,
     "metadata": {},
     "output_type": "execute_result"
    }
   ],
   "source": [
    "complex(z)"
   ]
  },
  {
   "cell_type": "code",
   "execution_count": 28,
   "id": "88f03a27",
   "metadata": {},
   "outputs": [],
   "source": [
    "x=29\n",
    "y=1\n",
    "z=x+y"
   ]
  },
  {
   "cell_type": "code",
   "execution_count": 29,
   "id": "75519b5d",
   "metadata": {},
   "outputs": [
    {
     "data": {
      "text/plain": [
       "30"
      ]
     },
     "execution_count": 29,
     "metadata": {},
     "output_type": "execute_result"
    }
   ],
   "source": [
    "z"
   ]
  },
  {
   "cell_type": "code",
   "execution_count": 30,
   "id": "52a328d7",
   "metadata": {},
   "outputs": [
    {
     "data": {
      "text/plain": [
       "30.0"
      ]
     },
     "execution_count": 30,
     "metadata": {},
     "output_type": "execute_result"
    }
   ],
   "source": [
    "float(z)"
   ]
  },
  {
   "cell_type": "markdown",
   "id": "cccfd0ac",
   "metadata": {},
   "source": [
    "### 6) Write a programme to prove that python is a case senstive language"
   ]
  },
  {
   "cell_type": "code",
   "execution_count": 56,
   "id": "8e939e56",
   "metadata": {},
   "outputs": [
    {
     "ename": "NameError",
     "evalue": "name '_abcdefgh' is not defined",
     "output_type": "error",
     "traceback": [
      "\u001b[1;31m---------------------------------------------------------------------------\u001b[0m",
      "\u001b[1;31mNameError\u001b[0m                                 Traceback (most recent call last)",
      "Input \u001b[1;32mIn [56]\u001b[0m, in \u001b[0;36m<cell line: 1>\u001b[1;34m()\u001b[0m\n\u001b[1;32m----> 1\u001b[0m var1\u001b[38;5;241m=\u001b[39m\u001b[43m_abcdefgh\u001b[49m\n\u001b[0;32m      2\u001b[0m var2\u001b[38;5;241m=\u001b[39mAbcd\n\u001b[0;32m      3\u001b[0m \u001b[38;5;28mprint\u001b[39m(var1)\n",
      "\u001b[1;31mNameError\u001b[0m: name '_abcdefgh' is not defined"
     ]
    }
   ],
   "source": [
    "var1=_abcdefgh\n",
    "var2=Abcd\n",
    "print(var1)\n",
    "\n"
   ]
  },
  {
   "cell_type": "markdown",
   "id": "b7240bca",
   "metadata": {},
   "source": [
    "### 7) Write a programme to get a syntax error"
   ]
  },
  {
   "cell_type": "code",
   "execution_count": 31,
   "id": "e0e2feb3",
   "metadata": {},
   "outputs": [
    {
     "ename": "SyntaxError",
     "evalue": "invalid syntax (685912549.py, line 1)",
     "output_type": "error",
     "traceback": [
      "\u001b[1;36m  Input \u001b[1;32mIn [31]\u001b[1;36m\u001b[0m\n\u001b[1;33m    x=1 x=2\u001b[0m\n\u001b[1;37m        ^\u001b[0m\n\u001b[1;31mSyntaxError\u001b[0m\u001b[1;31m:\u001b[0m invalid syntax\n"
     ]
    }
   ],
   "source": [
    "x=1 x=2"
   ]
  },
  {
   "cell_type": "markdown",
   "id": "476a42dc",
   "metadata": {},
   "source": [
    "### 8) Write a programme to get a type error"
   ]
  },
  {
   "cell_type": "code",
   "execution_count": 39,
   "id": "05c3a03c",
   "metadata": {},
   "outputs": [
    {
     "ename": "TypeError",
     "evalue": "unsupported operand type(s) for +: 'int' and 'str'",
     "output_type": "error",
     "traceback": [
      "\u001b[1;31m---------------------------------------------------------------------------\u001b[0m",
      "\u001b[1;31mTypeError\u001b[0m                                 Traceback (most recent call last)",
      "Input \u001b[1;32mIn [39]\u001b[0m, in \u001b[0;36m<cell line: 3>\u001b[1;34m()\u001b[0m\n\u001b[0;32m      1\u001b[0m a\u001b[38;5;241m=\u001b[39m\u001b[38;5;241m9\u001b[39m\n\u001b[0;32m      2\u001b[0m b\u001b[38;5;241m=\u001b[39m\u001b[38;5;124m\"\u001b[39m\u001b[38;5;124ml\u001b[39m\u001b[38;5;124m\"\u001b[39m\n\u001b[1;32m----> 3\u001b[0m \u001b[43ma\u001b[49m\u001b[38;5;241;43m+\u001b[39;49m\u001b[43mb\u001b[49m\n",
      "\u001b[1;31mTypeError\u001b[0m: unsupported operand type(s) for +: 'int' and 'str'"
     ]
    }
   ],
   "source": [
    "a=9\n",
    "b=\"l\"\n",
    "a+b\n",
    "\n"
   ]
  },
  {
   "cell_type": "markdown",
   "id": "718ca190",
   "metadata": {},
   "source": [
    "### 9) Give an example of mulitple statement in a single line"
   ]
  },
  {
   "cell_type": "code",
   "execution_count": 40,
   "id": "0f774ede",
   "metadata": {},
   "outputs": [
    {
     "name": "stdout",
     "output_type": "stream",
     "text": [
      "7\n",
      "-5\n"
     ]
    }
   ],
   "source": [
    "x=1\n",
    "y=6\n",
    "print(x+y);print(x-y)"
   ]
  },
  {
   "cell_type": "markdown",
   "id": "88b31105",
   "metadata": {},
   "source": [
    "### 10) Give an example of single line statement in multiple line"
   ]
  },
  {
   "cell_type": "code",
   "execution_count": 41,
   "id": "fb17d097",
   "metadata": {},
   "outputs": [
    {
     "data": {
      "text/plain": [
       "13"
      ]
     },
     "execution_count": 41,
     "metadata": {},
     "output_type": "execute_result"
    }
   ],
   "source": [
    "x=5\n",
    "y=8\n",
    "x\\\n",
    "+\\\n",
    "y"
   ]
  },
  {
   "cell_type": "code",
   "execution_count": null,
   "id": "ef271816",
   "metadata": {},
   "outputs": [],
   "source": []
  }
 ],
 "metadata": {
  "kernelspec": {
   "display_name": "Python 3 (ipykernel)",
   "language": "python",
   "name": "python3"
  },
  "language_info": {
   "codemirror_mode": {
    "name": "ipython",
    "version": 3
   },
   "file_extension": ".py",
   "mimetype": "text/x-python",
   "name": "python",
   "nbconvert_exporter": "python",
   "pygments_lexer": "ipython3",
   "version": "3.9.12"
  }
 },
 "nbformat": 4,
 "nbformat_minor": 5
}
